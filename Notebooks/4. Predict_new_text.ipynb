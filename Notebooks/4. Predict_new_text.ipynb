{
 "cells": [
  {
   "cell_type": "code",
   "execution_count": 1,
   "id": "combined-alfred",
   "metadata": {},
   "outputs": [],
   "source": [
    "#!/usr/bin/env python\n",
    "# coding: utf-8\n",
    "\n",
    "import pickle\n",
    "from Preprocess import preprocess"
   ]
  },
  {
   "cell_type": "code",
   "execution_count": 2,
   "id": "unavailable-falls",
   "metadata": {},
   "outputs": [
    {
     "name": "stdout",
     "output_type": "stream",
     "text": [
      "[1]\n",
      "The class of this text is:\tريادة أعمال\n"
     ]
    }
   ],
   "source": [
    "f = open('test.txt', \"r\")\n",
    "text = f.read()\n",
    "model = pickle.load(open('../Artifacts/lr', 'rb'))\n",
    "Category_lebels = {\"أخرى\":3 , \"علوم وتكنولوجيا\":2, \"ريادة أعمال\":1}\n",
    "text = preprocess(text)\n",
    "out = model.predict([text])\n",
    "print(out)\n",
    "print(\"The class of this text is:\\t{}\".format(list(Category_lebels.keys())[list(Category_lebels.values()).index(out[0])]))"
   ]
  }
 ],
 "metadata": {
  "kernelspec": {
   "display_name": "Python 3",
   "language": "python",
   "name": "python3"
  },
  "language_info": {
   "codemirror_mode": {
    "name": "ipython",
    "version": 3
   },
   "file_extension": ".py",
   "mimetype": "text/x-python",
   "name": "python",
   "nbconvert_exporter": "python",
   "pygments_lexer": "ipython3",
   "version": "3.7.9"
  }
 },
 "nbformat": 4,
 "nbformat_minor": 5
}
