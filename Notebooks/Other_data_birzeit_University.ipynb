{
 "cells": [
  {
   "cell_type": "code",
   "execution_count": 1,
   "metadata": {},
   "outputs": [],
   "source": [
    "#!/usr/bin/env python\n",
    "# coding: utf-8\n",
    "import json\n",
    "import pandas as pd    \n",
    "from requests import get\n",
    "from bs4 import BeautifulSoup"
   ]
  },
  {
   "cell_type": "code",
   "execution_count": 2,
   "metadata": {},
   "outputs": [],
   "source": [
    "def extract_html(url):\n",
    "    \"\"\"\n",
    "    Function for extracting html content using BeautifulSoup\n",
    "    \"\"\"\n",
    "    response = get(url, allow_redirects=False)\n",
    "    html = response.text\n",
    "    soup = BeautifulSoup(html, \"lxml-xml\")\n",
    "    return(soup)"
   ]
  },
  {
   "cell_type": "code",
   "execution_count": 3,
   "metadata": {},
   "outputs": [],
   "source": [
    "def add_to_json(data, title, summary, url, category):\n",
    "    \"\"\"\n",
    "    Function for adding data contents to a json file\n",
    "    \"\"\"\n",
    "    data['Article'].append({\n",
    "        'Title': title,\n",
    "        'Content': summary,\n",
    "        'Link': url,\n",
    "        'Category': category\n",
    "    })\n",
    "    return(data['Article'])"
   ]
  },
  {
   "cell_type": "code",
   "execution_count": 4,
   "metadata": {},
   "outputs": [],
   "source": [
    "def save_json(data, fname):\n",
    "    \"\"\"\n",
    "    Function for saving json file\n",
    "    \"\"\"\n",
    "    with open('{}.json'.format(fname), 'w') as outfile:\n",
    "        json.dump(data, outfile)"
   ]
  },
  {
   "cell_type": "code",
   "execution_count": 5,
   "metadata": {},
   "outputs": [],
   "source": [
    "def get_pages_num(category):\n",
    "    \"\"\"\n",
    "    Function for retrieving the number of pages to be scrapped for each category\n",
    "    \"\"\"\n",
    "    soup = extract_html(\"https://www.birzeit.edu/ar/news/category/{}\".format(category))\n",
    "    stories = soup.findAll(\"h2\", {\"class\": \"element-invisible\"})\n",
    "    li = soup.findAll(\"li\", {\"class\": \"pager-last last\"})\n",
    "    num = int(li[0].find('a').attrs['href'].split(\"=\")[1])\n",
    "    return num"
   ]
  },
  {
   "cell_type": "code",
   "execution_count": 6,
   "metadata": {},
   "outputs": [],
   "source": [
    "Categories_en = [\"research\", \"arts-and-culture\", \"campus-life\", \"awards\", \"alumni\", \"international\", \n",
    "                 \"sports-and-well-being\", \"visits\", \"community-engagement\", \"students\", \"science-and-technology\", \n",
    "                 \"events\", \"feature-stories\", \"conferences\", \"bzu-community\"]\n",
    "\n",
    "Categories_ar = [\"ابحاث ومشاريع\", \"ثقافة وفنون\", \"الجامعة\", \"جوائز ومنح\", \"خريجون\", \"دولى\", \n",
    "                 \"رياضة\", \"زيارات\", \"شراكة مجنمعية\", \"طلاب\", \"علوم وتكنولوجيا\", \"فعاليات\", \n",
    "                 \"قصص مميزة\", \"مؤتمرات\", \"مجتمع الجامعة\"]\n",
    "\n",
    "data = {}\n",
    "data['Article'] = []"
   ]
  },
  {
   "cell_type": "code",
   "execution_count": 7,
   "metadata": {
    "scrolled": true
   },
   "outputs": [],
   "source": [
    "#l = 0\n",
    "for i in range(14, 14):\n",
    "    \n",
    "    for j in range(get_pages_num(Categories_en[i])+1):    \n",
    "        soup = extract_html(\"https://www.birzeit.edu/ar/news/category/{}?page={}\".format(Categories_en[i], j))\n",
    "        stories = soup.findAll(\"h3\", {\"class\": \"field-content\"})\n",
    "\n",
    "        for n in range(len(stories)):\n",
    "            title = stories[n].text\n",
    "            url = \"https://www.birzeit.edu\"+stories[n].find('a').attrs['href']\n",
    "            soup = extract_html(\"https://www.birzeit.edu\"+stories[n].find('a').attrs['href'])\n",
    "            divs = soup.findAll(\"div\", {\"class\": \"field-item even\"})\n",
    "            category = Categories_ar[i]\n",
    "            \n",
    "            if len(divs) != 0:\n",
    "                ps = divs[3].findAll('p')\n",
    "                content = \"\"\n",
    "                for p in ps:\n",
    "                    content += p.text\n",
    "                add_to_json(data, title, content, url, category)\n",
    "                #l += 1\n",
    "        print(l)\n",
    "        \n",
    "save_json(data, 'results')"
   ]
  },
  {
   "cell_type": "code",
   "execution_count": 8,
   "metadata": {},
   "outputs": [],
   "source": [
    "df = pd.json_normalize(data['Article'])\n",
    "df.to_csv(\"University_News.csv\", index=False)"
   ]
  }
 ],
 "metadata": {
  "kernelspec": {
   "display_name": "Python 3",
   "language": "python",
   "name": "python3"
  },
  "language_info": {
   "codemirror_mode": {
    "name": "ipython",
    "version": 3
   },
   "file_extension": ".py",
   "mimetype": "text/x-python",
   "name": "python",
   "nbconvert_exporter": "python",
   "pygments_lexer": "ipython3",
   "version": "3.7.9"
  }
 },
 "nbformat": 4,
 "nbformat_minor": 4
}
