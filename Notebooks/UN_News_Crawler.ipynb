{
 "cells": [
  {
   "cell_type": "code",
   "execution_count": 1,
   "metadata": {},
   "outputs": [],
   "source": [
    "#!/usr/bin/env python\n",
    "# coding: utf-8\n",
    "import json\n",
    "import pandas as pd    \n",
    "from requests import get\n",
    "from bs4 import BeautifulSoup"
   ]
  },
  {
   "cell_type": "code",
   "execution_count": 2,
   "metadata": {},
   "outputs": [],
   "source": [
    "def extract_html(url):\n",
    "    \"\"\"\n",
    "    Function for extracting html content using BeautifulSoup\n",
    "    \"\"\"\n",
    "    response = get(url, allow_redirects=False)\n",
    "    html = response.text\n",
    "    soup = BeautifulSoup(html, \"lxml-xml\")\n",
    "    return(soup)"
   ]
  },
  {
   "cell_type": "code",
   "execution_count": 3,
   "metadata": {},
   "outputs": [],
   "source": [
    "def add_to_json(data, title, summary, url, category):\n",
    "    \"\"\"\n",
    "    Function for adding data contents to a json file\n",
    "    \"\"\"\n",
    "    data['Article'].append({\n",
    "        'Title': title,\n",
    "        'Content': summary,\n",
    "        'Link': url,\n",
    "        'Category': category\n",
    "    })\n",
    "    return(data['Article'])"
   ]
  },
  {
   "cell_type": "code",
   "execution_count": 4,
   "metadata": {},
   "outputs": [],
   "source": [
    "def save_json(data, fname):\n",
    "    \"\"\"\n",
    "    Function for saving json file\n",
    "    \"\"\"\n",
    "    with open('{}.json'.format(fname), 'w') as outfile:\n",
    "        json.dump(data, outfile)"
   ]
  },
  {
   "cell_type": "code",
   "execution_count": 5,
   "metadata": {},
   "outputs": [],
   "source": [
    "data = {}\n",
    "data['Article'] = []"
   ]
  },
  {
   "cell_type": "code",
   "execution_count": 6,
   "metadata": {
    "scrolled": true
   },
   "outputs": [],
   "source": [
    "#l = 0\n",
    "for i in range(1000):\n",
    "    \n",
    "    soup = extract_html(\"https://news.un.org/ar/news/date/2018?page={}\".format(i))\n",
    "    stories = soup.findAll(\"h1\", {\"class\": \"story-title\"})\n",
    "    \n",
    "    for n in range(len(stories)):\n",
    "        title = stories[n].text\n",
    "        url = \"https://news.un.org\"+stories[n].find('a').attrs['href']\n",
    "        soup = extract_html(\"https://news.un.org/\"+stories[n].find('a').attrs['href'])\n",
    "        div = soup.findAll(\"div\", {\"class\": \"field-item even\"})\n",
    "        if len(div) > 4:\n",
    "            ps = div[4].findAll('p')\n",
    "            content = \"\"\n",
    "            for p in ps:\n",
    "                content += p.text\n",
    "            category = div[1].text\n",
    "            if content != \"\" and category != \"\":\n",
    "                add_to_json(data, title, content, url, category)\n",
    "                #l += 1\n",
    "    #print(l)\n",
    "        \n",
    "save_json(data, 'results')"
   ]
  },
  {
   "cell_type": "code",
   "execution_count": 7,
   "metadata": {},
   "outputs": [],
   "source": [
    "df = pd.json_normalize(data['Article'])\n",
    "df.to_csv(\"UN_News.csv\", index=False)"
   ]
  }
 ],
 "metadata": {
  "kernelspec": {
   "display_name": "Python 3",
   "language": "python",
   "name": "python3"
  },
  "language_info": {
   "codemirror_mode": {
    "name": "ipython",
    "version": 3
   },
   "file_extension": ".py",
   "mimetype": "text/x-python",
   "name": "python",
   "nbconvert_exporter": "python",
   "pygments_lexer": "ipython3",
   "version": "3.7.9"
  }
 },
 "nbformat": 4,
 "nbformat_minor": 4
}
